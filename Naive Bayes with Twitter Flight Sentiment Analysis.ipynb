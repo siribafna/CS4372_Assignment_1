{
  "nbformat": 4,
  "nbformat_minor": 0,
  "metadata": {
    "colab": {
      "name": "assignment_4.ipynb",
      "provenance": [],
      "authorship_tag": "ABX9TyMZizNpEF70LYMpLXB6owVy",
      "include_colab_link": true
    },
    "kernelspec": {
      "name": "python3",
      "display_name": "Python 3"
    }
  },
  "cells": [
    {
      "cell_type": "markdown",
      "metadata": {
        "id": "view-in-github",
        "colab_type": "text"
      },
      "source": [
        "<a href=\"https://colab.research.google.com/github/siribafna/neural-networks/blob/master/Naive%20Bayes%20with%20Twitter%20Flight%20Sentiment%20Analysis.ipynb\" target=\"_parent\"><img src=\"https://colab.research.google.com/assets/colab-badge.svg\" alt=\"Open In Colab\"/></a>"
      ]
    },
    {
      "cell_type": "code",
      "metadata": {
        "id": "-iEGRJ2Yuz3y",
        "outputId": "235b1da6-cdf7-47e3-b5b2-04d9846e94e2",
        "colab": {
          "base_uri": "https://localhost:8080/",
          "height": 84
        }
      },
      "source": [
        "import sys\n",
        "import pandas as pd\n",
        "print(\"This is the name of the script: \", sys.argv[0])\n",
        "print (\"Number of arguments: \", len(sys.argv))\n",
        "print (\"The arguments are: \" , str(sys.argv))\n",
        "\n",
        "print(\"location for dataset:\", sys.argv[1])\n",
        "tweets_df = sys.argv[1]\n"
      ],
      "execution_count": 66,
      "outputs": [
        {
          "output_type": "stream",
          "text": [
            "This is the name of the script:  /usr/local/lib/python3.6/dist-packages/ipykernel_launcher.py\n",
            "Number of arguments:  3\n",
            "The arguments are:  ['/usr/local/lib/python3.6/dist-packages/ipykernel_launcher.py', '-f', '/root/.local/share/jupyter/runtime/kernel-504373a6-f087-47f5-a461-0e29468cc446.json']\n",
            "location for dataset: -f\n"
          ],
          "name": "stdout"
        }
      ]
    },
    {
      "cell_type": "code",
      "metadata": {
        "id": "3DtkbBiNvrjm"
      },
      "source": [
        "tweets_df = pd.read_csv('https://raw.githubusercontent.com/siribafna/neural-networks/master/Tweets.csv', sep=',')"
      ],
      "execution_count": 67,
      "outputs": []
    },
    {
      "cell_type": "code",
      "metadata": {
        "id": "UJaM0seTxbpT"
      },
      "source": [
        "tweets = tweets_df[[\"airline_sentiment\", \"airline\", \"text\"]]"
      ],
      "execution_count": 68,
      "outputs": []
    },
    {
      "cell_type": "code",
      "metadata": {
        "id": "Y95vFOt7zlZY",
        "outputId": "0c70f8a3-fcd3-452a-a79f-02fbb81239f6",
        "colab": {
          "base_uri": "https://localhost:8080/",
          "height": 402
        }
      },
      "source": [
        "display(tweets)"
      ],
      "execution_count": 69,
      "outputs": [
        {
          "output_type": "display_data",
          "data": {
            "text/html": [
              "<div>\n",
              "<style scoped>\n",
              "    .dataframe tbody tr th:only-of-type {\n",
              "        vertical-align: middle;\n",
              "    }\n",
              "\n",
              "    .dataframe tbody tr th {\n",
              "        vertical-align: top;\n",
              "    }\n",
              "\n",
              "    .dataframe thead th {\n",
              "        text-align: right;\n",
              "    }\n",
              "</style>\n",
              "<table border=\"1\" class=\"dataframe\">\n",
              "  <thead>\n",
              "    <tr style=\"text-align: right;\">\n",
              "      <th></th>\n",
              "      <th>airline_sentiment</th>\n",
              "      <th>airline</th>\n",
              "      <th>text</th>\n",
              "    </tr>\n",
              "  </thead>\n",
              "  <tbody>\n",
              "    <tr>\n",
              "      <th>0</th>\n",
              "      <td>neutral</td>\n",
              "      <td>Virgin America</td>\n",
              "      <td>@VirginAmerica What @dhepburn said.</td>\n",
              "    </tr>\n",
              "    <tr>\n",
              "      <th>1</th>\n",
              "      <td>positive</td>\n",
              "      <td>Virgin America</td>\n",
              "      <td>@VirginAmerica plus you've added commercials t...</td>\n",
              "    </tr>\n",
              "    <tr>\n",
              "      <th>2</th>\n",
              "      <td>neutral</td>\n",
              "      <td>Virgin America</td>\n",
              "      <td>@VirginAmerica I didn't today... Must mean I n...</td>\n",
              "    </tr>\n",
              "    <tr>\n",
              "      <th>3</th>\n",
              "      <td>negative</td>\n",
              "      <td>Virgin America</td>\n",
              "      <td>@VirginAmerica it's really aggressive to blast...</td>\n",
              "    </tr>\n",
              "    <tr>\n",
              "      <th>4</th>\n",
              "      <td>negative</td>\n",
              "      <td>Virgin America</td>\n",
              "      <td>@VirginAmerica and it's a really big bad thing...</td>\n",
              "    </tr>\n",
              "    <tr>\n",
              "      <th>...</th>\n",
              "      <td>...</td>\n",
              "      <td>...</td>\n",
              "      <td>...</td>\n",
              "    </tr>\n",
              "    <tr>\n",
              "      <th>14635</th>\n",
              "      <td>positive</td>\n",
              "      <td>American</td>\n",
              "      <td>@AmericanAir thank you we got on a different f...</td>\n",
              "    </tr>\n",
              "    <tr>\n",
              "      <th>14636</th>\n",
              "      <td>negative</td>\n",
              "      <td>American</td>\n",
              "      <td>@AmericanAir leaving over 20 minutes Late Flig...</td>\n",
              "    </tr>\n",
              "    <tr>\n",
              "      <th>14637</th>\n",
              "      <td>neutral</td>\n",
              "      <td>American</td>\n",
              "      <td>@AmericanAir Please bring American Airlines to...</td>\n",
              "    </tr>\n",
              "    <tr>\n",
              "      <th>14638</th>\n",
              "      <td>negative</td>\n",
              "      <td>American</td>\n",
              "      <td>@AmericanAir you have my money, you change my ...</td>\n",
              "    </tr>\n",
              "    <tr>\n",
              "      <th>14639</th>\n",
              "      <td>neutral</td>\n",
              "      <td>American</td>\n",
              "      <td>@AmericanAir we have 8 ppl so we need 2 know h...</td>\n",
              "    </tr>\n",
              "  </tbody>\n",
              "</table>\n",
              "<p>14640 rows × 3 columns</p>\n",
              "</div>"
            ],
            "text/plain": [
              "      airline_sentiment  ...                                               text\n",
              "0               neutral  ...                @VirginAmerica What @dhepburn said.\n",
              "1              positive  ...  @VirginAmerica plus you've added commercials t...\n",
              "2               neutral  ...  @VirginAmerica I didn't today... Must mean I n...\n",
              "3              negative  ...  @VirginAmerica it's really aggressive to blast...\n",
              "4              negative  ...  @VirginAmerica and it's a really big bad thing...\n",
              "...                 ...  ...                                                ...\n",
              "14635          positive  ...  @AmericanAir thank you we got on a different f...\n",
              "14636          negative  ...  @AmericanAir leaving over 20 minutes Late Flig...\n",
              "14637           neutral  ...  @AmericanAir Please bring American Airlines to...\n",
              "14638          negative  ...  @AmericanAir you have my money, you change my ...\n",
              "14639           neutral  ...  @AmericanAir we have 8 ppl so we need 2 know h...\n",
              "\n",
              "[14640 rows x 3 columns]"
            ]
          },
          "metadata": {
            "tags": []
          }
        }
      ]
    },
    {
      "cell_type": "code",
      "metadata": {
        "id": "vfN08HX5zzSu",
        "outputId": "4086ada2-4e5e-420a-be88-e4acd1c3d2f7",
        "colab": {
          "base_uri": "https://localhost:8080/",
          "height": 118
        }
      },
      "source": [
        "tweets[\"text\"] = tweets[\"text\"].str.lower() # making all text data lowercase"
      ],
      "execution_count": 70,
      "outputs": [
        {
          "output_type": "stream",
          "text": [
            "/usr/local/lib/python3.6/dist-packages/ipykernel_launcher.py:1: SettingWithCopyWarning: \n",
            "A value is trying to be set on a copy of a slice from a DataFrame.\n",
            "Try using .loc[row_indexer,col_indexer] = value instead\n",
            "\n",
            "See the caveats in the documentation: https://pandas.pydata.org/pandas-docs/stable/user_guide/indexing.html#returning-a-view-versus-a-copy\n",
            "  \"\"\"Entry point for launching an IPython kernel.\n"
          ],
          "name": "stderr"
        }
      ]
    },
    {
      "cell_type": "code",
      "metadata": {
        "id": "lLUl1w7a05uh"
      },
      "source": [
        "from sklearn.feature_extraction.text import CountVectorizer\n",
        "count_vect = CountVectorizer()  \n",
        "counts = count_vect.fit_transform(tweets['text'])  "
      ],
      "execution_count": 71,
      "outputs": []
    },
    {
      "cell_type": "code",
      "metadata": {
        "id": "H0Oa0VOa2Rh6"
      },
      "source": [
        "from sklearn.feature_extraction.text import TfidfTransformer\n",
        "transformer = TfidfTransformer().fit(counts)\n",
        "counts = transformer.transform(counts)"
      ],
      "execution_count": 72,
      "outputs": []
    },
    {
      "cell_type": "code",
      "metadata": {
        "id": "0tl_BOfn2Rv6",
        "outputId": "928475e9-4f92-4753-8460-96a553cdc2ca",
        "colab": {
          "base_uri": "https://localhost:8080/",
          "height": 502
        }
      },
      "source": [
        "from sklearn.preprocessing import LabelEncoder \n",
        "label_encoder = LabelEncoder() # creating label_encoder\n",
        "tweets['airline_sentiment'] = label_encoder.fit_transform(tweets['airline_sentiment'])\n",
        "tweets"
      ],
      "execution_count": 73,
      "outputs": [
        {
          "output_type": "stream",
          "text": [
            "/usr/local/lib/python3.6/dist-packages/ipykernel_launcher.py:3: SettingWithCopyWarning: \n",
            "A value is trying to be set on a copy of a slice from a DataFrame.\n",
            "Try using .loc[row_indexer,col_indexer] = value instead\n",
            "\n",
            "See the caveats in the documentation: https://pandas.pydata.org/pandas-docs/stable/user_guide/indexing.html#returning-a-view-versus-a-copy\n",
            "  This is separate from the ipykernel package so we can avoid doing imports until\n"
          ],
          "name": "stderr"
        },
        {
          "output_type": "execute_result",
          "data": {
            "text/html": [
              "<div>\n",
              "<style scoped>\n",
              "    .dataframe tbody tr th:only-of-type {\n",
              "        vertical-align: middle;\n",
              "    }\n",
              "\n",
              "    .dataframe tbody tr th {\n",
              "        vertical-align: top;\n",
              "    }\n",
              "\n",
              "    .dataframe thead th {\n",
              "        text-align: right;\n",
              "    }\n",
              "</style>\n",
              "<table border=\"1\" class=\"dataframe\">\n",
              "  <thead>\n",
              "    <tr style=\"text-align: right;\">\n",
              "      <th></th>\n",
              "      <th>airline_sentiment</th>\n",
              "      <th>airline</th>\n",
              "      <th>text</th>\n",
              "    </tr>\n",
              "  </thead>\n",
              "  <tbody>\n",
              "    <tr>\n",
              "      <th>0</th>\n",
              "      <td>1</td>\n",
              "      <td>Virgin America</td>\n",
              "      <td>@virginamerica what @dhepburn said.</td>\n",
              "    </tr>\n",
              "    <tr>\n",
              "      <th>1</th>\n",
              "      <td>2</td>\n",
              "      <td>Virgin America</td>\n",
              "      <td>@virginamerica plus you've added commercials t...</td>\n",
              "    </tr>\n",
              "    <tr>\n",
              "      <th>2</th>\n",
              "      <td>1</td>\n",
              "      <td>Virgin America</td>\n",
              "      <td>@virginamerica i didn't today... must mean i n...</td>\n",
              "    </tr>\n",
              "    <tr>\n",
              "      <th>3</th>\n",
              "      <td>0</td>\n",
              "      <td>Virgin America</td>\n",
              "      <td>@virginamerica it's really aggressive to blast...</td>\n",
              "    </tr>\n",
              "    <tr>\n",
              "      <th>4</th>\n",
              "      <td>0</td>\n",
              "      <td>Virgin America</td>\n",
              "      <td>@virginamerica and it's a really big bad thing...</td>\n",
              "    </tr>\n",
              "    <tr>\n",
              "      <th>...</th>\n",
              "      <td>...</td>\n",
              "      <td>...</td>\n",
              "      <td>...</td>\n",
              "    </tr>\n",
              "    <tr>\n",
              "      <th>14635</th>\n",
              "      <td>2</td>\n",
              "      <td>American</td>\n",
              "      <td>@americanair thank you we got on a different f...</td>\n",
              "    </tr>\n",
              "    <tr>\n",
              "      <th>14636</th>\n",
              "      <td>0</td>\n",
              "      <td>American</td>\n",
              "      <td>@americanair leaving over 20 minutes late flig...</td>\n",
              "    </tr>\n",
              "    <tr>\n",
              "      <th>14637</th>\n",
              "      <td>1</td>\n",
              "      <td>American</td>\n",
              "      <td>@americanair please bring american airlines to...</td>\n",
              "    </tr>\n",
              "    <tr>\n",
              "      <th>14638</th>\n",
              "      <td>0</td>\n",
              "      <td>American</td>\n",
              "      <td>@americanair you have my money, you change my ...</td>\n",
              "    </tr>\n",
              "    <tr>\n",
              "      <th>14639</th>\n",
              "      <td>1</td>\n",
              "      <td>American</td>\n",
              "      <td>@americanair we have 8 ppl so we need 2 know h...</td>\n",
              "    </tr>\n",
              "  </tbody>\n",
              "</table>\n",
              "<p>14640 rows × 3 columns</p>\n",
              "</div>"
            ],
            "text/plain": [
              "       airline_sentiment  ...                                               text\n",
              "0                      1  ...                @virginamerica what @dhepburn said.\n",
              "1                      2  ...  @virginamerica plus you've added commercials t...\n",
              "2                      1  ...  @virginamerica i didn't today... must mean i n...\n",
              "3                      0  ...  @virginamerica it's really aggressive to blast...\n",
              "4                      0  ...  @virginamerica and it's a really big bad thing...\n",
              "...                  ...  ...                                                ...\n",
              "14635                  2  ...  @americanair thank you we got on a different f...\n",
              "14636                  0  ...  @americanair leaving over 20 minutes late flig...\n",
              "14637                  1  ...  @americanair please bring american airlines to...\n",
              "14638                  0  ...  @americanair you have my money, you change my ...\n",
              "14639                  1  ...  @americanair we have 8 ppl so we need 2 know h...\n",
              "\n",
              "[14640 rows x 3 columns]"
            ]
          },
          "metadata": {
            "tags": []
          },
          "execution_count": 73
        }
      ]
    },
    {
      "cell_type": "code",
      "metadata": {
        "id": "WDzRXr_l30Sj"
      },
      "source": [
        "from sklearn.model_selection import train_test_split\n",
        "X_train, X_test, y_train, y_test = train_test_split(counts, tweets['airline_sentiment'], test_size=0.1)"
      ],
      "execution_count": 74,
      "outputs": []
    },
    {
      "cell_type": "code",
      "metadata": {
        "id": "zX-Bs8Zm4foj"
      },
      "source": [
        "from sklearn.naive_bayes import MultinomialNB\n",
        "model = MultinomialNB().fit(X_train, y_train)  "
      ],
      "execution_count": 75,
      "outputs": []
    },
    {
      "cell_type": "code",
      "metadata": {
        "id": "Gv0B3kej6Q_T",
        "outputId": "2150a201-30c8-44a8-f24a-fc314821ad48",
        "colab": {
          "base_uri": "https://localhost:8080/",
          "height": 34
        }
      },
      "source": [
        "import numpy as np\n",
        "predicted = model.predict(X_test)\n",
        "print(\"Accuracy: \", np.mean(predicted == y_test))  "
      ],
      "execution_count": 76,
      "outputs": [
        {
          "output_type": "stream",
          "text": [
            "Accuracy:  0.6769125683060109\n"
          ],
          "name": "stdout"
        }
      ]
    },
    {
      "cell_type": "code",
      "metadata": {
        "id": "Petkuu0u_DzR",
        "outputId": "77af836f-9acb-4dfd-e043-785cc9c31efd",
        "colab": {
          "base_uri": "https://localhost:8080/",
          "height": 242
        }
      },
      "source": [
        "print(\"Average Airline Sentiments:\")\n",
        "display(tweets[['airline_sentiment', 'airline']].groupby('airline', as_index=False)['airline_sentiment'].mean())"
      ],
      "execution_count": 79,
      "outputs": [
        {
          "output_type": "stream",
          "text": [
            "Average Airline Sentiments:\n"
          ],
          "name": "stdout"
        },
        {
          "output_type": "display_data",
          "data": {
            "text/html": [
              "<div>\n",
              "<style scoped>\n",
              "    .dataframe tbody tr th:only-of-type {\n",
              "        vertical-align: middle;\n",
              "    }\n",
              "\n",
              "    .dataframe tbody tr th {\n",
              "        vertical-align: top;\n",
              "    }\n",
              "\n",
              "    .dataframe thead th {\n",
              "        text-align: right;\n",
              "    }\n",
              "</style>\n",
              "<table border=\"1\" class=\"dataframe\">\n",
              "  <thead>\n",
              "    <tr style=\"text-align: right;\">\n",
              "      <th></th>\n",
              "      <th>airline</th>\n",
              "      <th>airline_sentiment</th>\n",
              "    </tr>\n",
              "  </thead>\n",
              "  <tbody>\n",
              "    <tr>\n",
              "      <th>0</th>\n",
              "      <td>American</td>\n",
              "      <td>0.411381</td>\n",
              "    </tr>\n",
              "    <tr>\n",
              "      <th>1</th>\n",
              "      <td>Delta</td>\n",
              "      <td>0.815032</td>\n",
              "    </tr>\n",
              "    <tr>\n",
              "      <th>2</th>\n",
              "      <td>Southwest</td>\n",
              "      <td>0.745455</td>\n",
              "    </tr>\n",
              "    <tr>\n",
              "      <th>3</th>\n",
              "      <td>US Airways</td>\n",
              "      <td>0.315482</td>\n",
              "    </tr>\n",
              "    <tr>\n",
              "      <th>4</th>\n",
              "      <td>United</td>\n",
              "      <td>0.439822</td>\n",
              "    </tr>\n",
              "    <tr>\n",
              "      <th>5</th>\n",
              "      <td>Virgin America</td>\n",
              "      <td>0.942460</td>\n",
              "    </tr>\n",
              "  </tbody>\n",
              "</table>\n",
              "</div>"
            ],
            "text/plain": [
              "          airline  airline_sentiment\n",
              "0        American           0.411381\n",
              "1           Delta           0.815032\n",
              "2       Southwest           0.745455\n",
              "3      US Airways           0.315482\n",
              "4          United           0.439822\n",
              "5  Virgin America           0.942460"
            ]
          },
          "metadata": {
            "tags": []
          }
        }
      ]
    },
    {
      "cell_type": "code",
      "metadata": {
        "id": "CiiFUhsB6ZA2",
        "outputId": "ffb4e3ab-76a9-4556-c271-6b187baa14d2",
        "colab": {
          "base_uri": "https://localhost:8080/",
          "height": 34
        }
      },
      "source": [
        "positive_sentiments = tweets.loc[tweets['airline_sentiment'] == 2]\n",
        "#display(positive_sentiments)\n",
        "highest_positive_sentiment = positive_sentiments.groupby('airline', as_index=False).count().max()\n",
        "print(\"Airline with the Highest Positive Sentiment: \", highest_positive_sentiment[\"airline\"])"
      ],
      "execution_count": 78,
      "outputs": [
        {
          "output_type": "stream",
          "text": [
            "Airline with the Highest Positive Sentiment:  Virgin America\n"
          ],
          "name": "stdout"
        }
      ]
    },
    {
      "cell_type": "code",
      "metadata": {
        "id": "AbHR2za28987"
      },
      "source": [
        ""
      ],
      "execution_count": null,
      "outputs": []
    }
  ]
}